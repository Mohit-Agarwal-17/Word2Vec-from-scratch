{
 "cells": [
  {
   "cell_type": "code",
   "execution_count": 17,
   "metadata": {},
   "outputs": [],
   "source": [
    "from tensorflow.keras.preprocessing.text import one_hot"
   ]
  },
  {
   "cell_type": "code",
   "execution_count": 18,
   "metadata": {},
   "outputs": [],
   "source": [
    "sentences=[  'the glass of milk',\n",
    "     'the glass of juice',\n",
    "     'the cup of tea',\n",
    "    'I am a good boy',\n",
    "     'I am a good developer',\n",
    "     'understand the meaning of words',\n",
    "     'your videos are good',]"
   ]
  },
  {
   "cell_type": "code",
   "execution_count": 19,
   "metadata": {},
   "outputs": [],
   "source": [
    "import string\n",
    "with open('sentences.txt', encoding='utf-8') as f:\n",
    "    text = f.read().split('\\n')\n",
    "\n",
    "sentences = []\n",
    "for sentence in text:\n",
    "    # Remove punctuation and digits\n",
    "    sentence = sentence.translate(str.maketrans('', '', string.punctuation))\n",
    "    sentence = ''.join(char for char in sentence if not char.isdigit())\n",
    "    # Strip extra whitespace and add to the list if it's not empty\n",
    "    if sentence.strip():\n",
    "        sentences.append(sentence.strip())"
   ]
  },
  {
   "cell_type": "code",
   "execution_count": 20,
   "metadata": {},
   "outputs": [
    {
     "data": {
      "text/plain": [
       "['The quick brown fox jumps over the lazy dog',\n",
       " 'She sold seashells by the seashore',\n",
       " 'The stock market experienced a significant drop last week',\n",
       " 'Quantum computing promises to revolutionize technology',\n",
       " 'Yoga and meditation can improve mental wellbeing',\n",
       " 'The artist painted a beautiful landscape of the mountains',\n",
       " 'Economic policies impact global financial markets',\n",
       " 'Astronomy helps us understand the universe and its origins',\n",
       " 'Virtual reality is changing the way we experience games',\n",
       " 'The chef prepared a gourmet meal with fresh ingredients']"
      ]
     },
     "execution_count": 20,
     "metadata": {},
     "output_type": "execute_result"
    }
   ],
   "source": [
    "sentences\n"
   ]
  },
  {
   "cell_type": "code",
   "execution_count": 21,
   "metadata": {},
   "outputs": [],
   "source": [
    "vocab_size = 100"
   ]
  },
  {
   "cell_type": "code",
   "execution_count": 22,
   "metadata": {},
   "outputs": [
    {
     "data": {
      "text/plain": [
       "[[14, 75, 60, 8, 84, 98, 14, 16, 93],\n",
       " [92, 79, 86, 52, 14, 46],\n",
       " [14, 4, 41, 30, 60, 99, 6, 27, 5],\n",
       " [41, 24, 15, 57, 4, 23],\n",
       " [8, 73, 74, 69, 92, 65, 1],\n",
       " [14, 5, 56, 60, 42, 44, 32, 14, 7],\n",
       " [57, 42, 68, 28, 92, 27],\n",
       " [36, 56, 8, 61, 14, 31, 73, 39, 31],\n",
       " [62, 56, 89, 1, 14, 72, 6, 78, 67],\n",
       " [14, 43, 79, 60, 18, 97, 70, 98, 18]]"
      ]
     },
     "execution_count": 22,
     "metadata": {},
     "output_type": "execute_result"
    }
   ],
   "source": [
    "onehot_rep = [one_hot(sent, vocab_size) for sent in sentences]\n",
    "onehot_rep"
   ]
  },
  {
   "cell_type": "code",
   "execution_count": 23,
   "metadata": {},
   "outputs": [],
   "source": [
    "from tensorflow.keras.layers import Embedding\n",
    "from tensorflow.keras.preprocessing.sequence import pad_sequences\n",
    "from tensorflow.keras.models import Sequential"
   ]
  },
  {
   "cell_type": "code",
   "execution_count": 24,
   "metadata": {},
   "outputs": [
    {
     "data": {
      "text/plain": [
       "array([[ 0,  0,  0,  0,  0,  0,  0,  0,  0,  0,  0, 14, 75, 60,  8, 84,\n",
       "        98, 14, 16, 93],\n",
       "       [ 0,  0,  0,  0,  0,  0,  0,  0,  0,  0,  0,  0,  0,  0, 92, 79,\n",
       "        86, 52, 14, 46],\n",
       "       [ 0,  0,  0,  0,  0,  0,  0,  0,  0,  0,  0, 14,  4, 41, 30, 60,\n",
       "        99,  6, 27,  5],\n",
       "       [ 0,  0,  0,  0,  0,  0,  0,  0,  0,  0,  0,  0,  0,  0, 41, 24,\n",
       "        15, 57,  4, 23],\n",
       "       [ 0,  0,  0,  0,  0,  0,  0,  0,  0,  0,  0,  0,  0,  8, 73, 74,\n",
       "        69, 92, 65,  1],\n",
       "       [ 0,  0,  0,  0,  0,  0,  0,  0,  0,  0,  0, 14,  5, 56, 60, 42,\n",
       "        44, 32, 14,  7],\n",
       "       [ 0,  0,  0,  0,  0,  0,  0,  0,  0,  0,  0,  0,  0,  0, 57, 42,\n",
       "        68, 28, 92, 27],\n",
       "       [ 0,  0,  0,  0,  0,  0,  0,  0,  0,  0,  0, 36, 56,  8, 61, 14,\n",
       "        31, 73, 39, 31],\n",
       "       [ 0,  0,  0,  0,  0,  0,  0,  0,  0,  0,  0, 62, 56, 89,  1, 14,\n",
       "        72,  6, 78, 67],\n",
       "       [ 0,  0,  0,  0,  0,  0,  0,  0,  0,  0,  0, 14, 43, 79, 60, 18,\n",
       "        97, 70, 98, 18]])"
      ]
     },
     "execution_count": 24,
     "metadata": {},
     "output_type": "execute_result"
    }
   ],
   "source": [
    "import numpy as np\n",
    "\n",
    "sent_length = 20\n",
    "\n",
    "embedded_docs = pad_sequences(onehot_rep, padding='pre', maxlen=sent_length)\n",
    "embedded_docs"
   ]
  },
  {
   "cell_type": "code",
   "execution_count": 25,
   "metadata": {},
   "outputs": [],
   "source": [
    "dim = 7\n",
    "\n",
    "model = Sequential()\n",
    "model.add(Embedding(vocab_size,7))\n",
    "model.compile('adam', 'mse')"
   ]
  },
  {
   "cell_type": "code",
   "execution_count": 26,
   "metadata": {},
   "outputs": [
    {
     "data": {
      "text/html": [
       "<pre style=\"white-space:pre;overflow-x:auto;line-height:normal;font-family:Menlo,'DejaVu Sans Mono',consolas,'Courier New',monospace\"><span style=\"font-weight: bold\">Model: \"sequential_1\"</span>\n",
       "</pre>\n"
      ],
      "text/plain": [
       "\u001b[1mModel: \"sequential_1\"\u001b[0m\n"
      ]
     },
     "metadata": {},
     "output_type": "display_data"
    },
    {
     "data": {
      "text/html": [
       "<pre style=\"white-space:pre;overflow-x:auto;line-height:normal;font-family:Menlo,'DejaVu Sans Mono',consolas,'Courier New',monospace\">┏━━━━━━━━━━━━━━━━━━━━━━━━━━━━━━━━━┳━━━━━━━━━━━━━━━━━━━━━━━━┳━━━━━━━━━━━━━━━┓\n",
       "┃<span style=\"font-weight: bold\"> Layer (type)                    </span>┃<span style=\"font-weight: bold\"> Output Shape           </span>┃<span style=\"font-weight: bold\">       Param # </span>┃\n",
       "┡━━━━━━━━━━━━━━━━━━━━━━━━━━━━━━━━━╇━━━━━━━━━━━━━━━━━━━━━━━━╇━━━━━━━━━━━━━━━┩\n",
       "│ embedding_1 (<span style=\"color: #0087ff; text-decoration-color: #0087ff\">Embedding</span>)         │ ?                      │   <span style=\"color: #00af00; text-decoration-color: #00af00\">0</span> (unbuilt) │\n",
       "└─────────────────────────────────┴────────────────────────┴───────────────┘\n",
       "</pre>\n"
      ],
      "text/plain": [
       "┏━━━━━━━━━━━━━━━━━━━━━━━━━━━━━━━━━┳━━━━━━━━━━━━━━━━━━━━━━━━┳━━━━━━━━━━━━━━━┓\n",
       "┃\u001b[1m \u001b[0m\u001b[1mLayer (type)                   \u001b[0m\u001b[1m \u001b[0m┃\u001b[1m \u001b[0m\u001b[1mOutput Shape          \u001b[0m\u001b[1m \u001b[0m┃\u001b[1m \u001b[0m\u001b[1m      Param #\u001b[0m\u001b[1m \u001b[0m┃\n",
       "┡━━━━━━━━━━━━━━━━━━━━━━━━━━━━━━━━━╇━━━━━━━━━━━━━━━━━━━━━━━━╇━━━━━━━━━━━━━━━┩\n",
       "│ embedding_1 (\u001b[38;5;33mEmbedding\u001b[0m)         │ ?                      │   \u001b[38;5;34m0\u001b[0m (unbuilt) │\n",
       "└─────────────────────────────────┴────────────────────────┴───────────────┘\n"
      ]
     },
     "metadata": {},
     "output_type": "display_data"
    },
    {
     "data": {
      "text/html": [
       "<pre style=\"white-space:pre;overflow-x:auto;line-height:normal;font-family:Menlo,'DejaVu Sans Mono',consolas,'Courier New',monospace\"><span style=\"font-weight: bold\"> Total params: </span><span style=\"color: #00af00; text-decoration-color: #00af00\">0</span> (0.00 B)\n",
       "</pre>\n"
      ],
      "text/plain": [
       "\u001b[1m Total params: \u001b[0m\u001b[38;5;34m0\u001b[0m (0.00 B)\n"
      ]
     },
     "metadata": {},
     "output_type": "display_data"
    },
    {
     "data": {
      "text/html": [
       "<pre style=\"white-space:pre;overflow-x:auto;line-height:normal;font-family:Menlo,'DejaVu Sans Mono',consolas,'Courier New',monospace\"><span style=\"font-weight: bold\"> Trainable params: </span><span style=\"color: #00af00; text-decoration-color: #00af00\">0</span> (0.00 B)\n",
       "</pre>\n"
      ],
      "text/plain": [
       "\u001b[1m Trainable params: \u001b[0m\u001b[38;5;34m0\u001b[0m (0.00 B)\n"
      ]
     },
     "metadata": {},
     "output_type": "display_data"
    },
    {
     "data": {
      "text/html": [
       "<pre style=\"white-space:pre;overflow-x:auto;line-height:normal;font-family:Menlo,'DejaVu Sans Mono',consolas,'Courier New',monospace\"><span style=\"font-weight: bold\"> Non-trainable params: </span><span style=\"color: #00af00; text-decoration-color: #00af00\">0</span> (0.00 B)\n",
       "</pre>\n"
      ],
      "text/plain": [
       "\u001b[1m Non-trainable params: \u001b[0m\u001b[38;5;34m0\u001b[0m (0.00 B)\n"
      ]
     },
     "metadata": {},
     "output_type": "display_data"
    }
   ],
   "source": [
    "model.summary()"
   ]
  },
  {
   "cell_type": "code",
   "execution_count": 27,
   "metadata": {},
   "outputs": [
    {
     "name": "stdout",
     "output_type": "stream",
     "text": [
      "\u001b[1m1/1\u001b[0m \u001b[32m━━━━━━━━━━━━━━━━━━━━\u001b[0m\u001b[37m\u001b[0m \u001b[1m0s\u001b[0m 116ms/step\n",
      "[[[ 0.03648497  0.03138497  0.01404531 ...  0.01127372 -0.04294361\n",
      "   -0.00669511]\n",
      "  [ 0.03648497  0.03138497  0.01404531 ...  0.01127372 -0.04294361\n",
      "   -0.00669511]\n",
      "  [ 0.03648497  0.03138497  0.01404531 ...  0.01127372 -0.04294361\n",
      "   -0.00669511]\n",
      "  ...\n",
      "  [-0.04951207  0.0153388  -0.01626473 ...  0.02287925 -0.04837464\n",
      "   -0.0244689 ]\n",
      "  [ 0.04829968 -0.04757148  0.00259865 ... -0.00070206  0.00947467\n",
      "    0.02584926]\n",
      "  [-0.00022233  0.00759375 -0.01508077 ... -0.02082244 -0.03153412\n",
      "   -0.04628996]]\n",
      "\n",
      " [[ 0.03648497  0.03138497  0.01404531 ...  0.01127372 -0.04294361\n",
      "   -0.00669511]\n",
      "  [ 0.03648497  0.03138497  0.01404531 ...  0.01127372 -0.04294361\n",
      "   -0.00669511]\n",
      "  [ 0.03648497  0.03138497  0.01404531 ...  0.01127372 -0.04294361\n",
      "   -0.00669511]\n",
      "  ...\n",
      "  [-0.03559815 -0.01478035 -0.02709278 ...  0.0066502   0.00335038\n",
      "    0.01002077]\n",
      "  [-0.04951207  0.0153388  -0.01626473 ...  0.02287925 -0.04837464\n",
      "   -0.0244689 ]\n",
      "  [-0.02046484  0.01923874  0.04475634 ... -0.03241334  0.00475526\n",
      "   -0.04537836]]\n",
      "\n",
      " [[ 0.03648497  0.03138497  0.01404531 ...  0.01127372 -0.04294361\n",
      "   -0.00669511]\n",
      "  [ 0.03648497  0.03138497  0.01404531 ...  0.01127372 -0.04294361\n",
      "   -0.00669511]\n",
      "  [ 0.03648497  0.03138497  0.01404531 ...  0.01127372 -0.04294361\n",
      "   -0.00669511]\n",
      "  ...\n",
      "  [-0.03177648  0.02870002 -0.00579994 ... -0.04266457  0.03168765\n",
      "   -0.01565186]\n",
      "  [-0.03002553  0.0218251  -0.02121623 ... -0.00014633 -0.00797484\n",
      "   -0.0321485 ]\n",
      "  [-0.03210516 -0.01934806 -0.02068497 ...  0.03649578  0.03372644\n",
      "   -0.03581496]]\n",
      "\n",
      " ...\n",
      "\n",
      " [[ 0.03648497  0.03138497  0.01404531 ...  0.01127372 -0.04294361\n",
      "   -0.00669511]\n",
      "  [ 0.03648497  0.03138497  0.01404531 ...  0.01127372 -0.04294361\n",
      "   -0.00669511]\n",
      "  [ 0.03648497  0.03138497  0.01404531 ...  0.01127372 -0.04294361\n",
      "   -0.00669511]\n",
      "  ...\n",
      "  [-0.03953243  0.02483252  0.04946431 ...  0.02879347  0.02630771\n",
      "   -0.0096313 ]\n",
      "  [ 0.03655976  0.03001923 -0.01205093 ... -0.01414245  0.04812777\n",
      "   -0.03755111]\n",
      "  [-0.01791674 -0.02758254  0.00215327 ... -0.03183291 -0.00987246\n",
      "    0.01117032]]\n",
      "\n",
      " [[ 0.03648497  0.03138497  0.01404531 ...  0.01127372 -0.04294361\n",
      "   -0.00669511]\n",
      "  [ 0.03648497  0.03138497  0.01404531 ...  0.01127372 -0.04294361\n",
      "   -0.00669511]\n",
      "  [ 0.03648497  0.03138497  0.01404531 ...  0.01127372 -0.04294361\n",
      "   -0.00669511]\n",
      "  ...\n",
      "  [-0.03177648  0.02870002 -0.00579994 ... -0.04266457  0.03168765\n",
      "   -0.01565186]\n",
      "  [-0.02960103 -0.00663437  0.00926846 ... -0.00683551  0.04547476\n",
      "    0.0189133 ]\n",
      "  [-0.04387436 -0.00466542 -0.03252436 ...  0.03585202 -0.04275339\n",
      "   -0.0280952 ]]\n",
      "\n",
      " [[ 0.03648497  0.03138497  0.01404531 ...  0.01127372 -0.04294361\n",
      "   -0.00669511]\n",
      "  [ 0.03648497  0.03138497  0.01404531 ...  0.01127372 -0.04294361\n",
      "   -0.00669511]\n",
      "  [ 0.03648497  0.03138497  0.01404531 ...  0.01127372 -0.04294361\n",
      "   -0.00669511]\n",
      "  ...\n",
      "  [-0.02874153  0.01919565 -0.00540898 ... -0.02144843  0.02596687\n",
      "    0.00150799]\n",
      "  [-0.03294426  0.02065593 -0.02457851 ...  0.02595055  0.02942342\n",
      "   -0.04674245]\n",
      "  [-0.02572091 -0.01765382 -0.01008619 ... -0.04767732 -0.01917808\n",
      "   -0.04731277]]]\n"
     ]
    }
   ],
   "source": [
    "print(model.predict(embedded_docs))"
   ]
  },
  {
   "cell_type": "code",
   "execution_count": 28,
   "metadata": {},
   "outputs": [
    {
     "name": "stdout",
     "output_type": "stream",
     "text": [
      "\u001b[1m1/1\u001b[0m \u001b[32m━━━━━━━━━━━━━━━━━━━━\u001b[0m\u001b[37m\u001b[0m \u001b[1m0s\u001b[0m 23ms/step\n"
     ]
    },
    {
     "data": {
      "text/plain": [
       "array([[[ 0.03648497,  0.03138497,  0.01404531, ...,  0.01127372,\n",
       "         -0.04294361, -0.00669511],\n",
       "        [ 0.03648497,  0.03138497,  0.01404531, ...,  0.01127372,\n",
       "         -0.04294361, -0.00669511],\n",
       "        [ 0.03648497,  0.03138497,  0.01404531, ...,  0.01127372,\n",
       "         -0.04294361, -0.00669511],\n",
       "        ...,\n",
       "        [-0.04951207,  0.0153388 , -0.01626473, ...,  0.02287925,\n",
       "         -0.04837464, -0.0244689 ],\n",
       "        [ 0.04829968, -0.04757148,  0.00259865, ..., -0.00070206,\n",
       "          0.00947467,  0.02584926],\n",
       "        [-0.00022233,  0.00759375, -0.01508077, ..., -0.02082244,\n",
       "         -0.03153412, -0.04628996]],\n",
       "\n",
       "       [[ 0.03648497,  0.03138497,  0.01404531, ...,  0.01127372,\n",
       "         -0.04294361, -0.00669511],\n",
       "        [ 0.03648497,  0.03138497,  0.01404531, ...,  0.01127372,\n",
       "         -0.04294361, -0.00669511],\n",
       "        [ 0.03648497,  0.03138497,  0.01404531, ...,  0.01127372,\n",
       "         -0.04294361, -0.00669511],\n",
       "        ...,\n",
       "        [-0.03559815, -0.01478035, -0.02709278, ...,  0.0066502 ,\n",
       "          0.00335038,  0.01002077],\n",
       "        [-0.04951207,  0.0153388 , -0.01626473, ...,  0.02287925,\n",
       "         -0.04837464, -0.0244689 ],\n",
       "        [-0.02046484,  0.01923874,  0.04475634, ..., -0.03241334,\n",
       "          0.00475526, -0.04537836]],\n",
       "\n",
       "       [[ 0.03648497,  0.03138497,  0.01404531, ...,  0.01127372,\n",
       "         -0.04294361, -0.00669511],\n",
       "        [ 0.03648497,  0.03138497,  0.01404531, ...,  0.01127372,\n",
       "         -0.04294361, -0.00669511],\n",
       "        [ 0.03648497,  0.03138497,  0.01404531, ...,  0.01127372,\n",
       "         -0.04294361, -0.00669511],\n",
       "        ...,\n",
       "        [-0.03177648,  0.02870002, -0.00579994, ..., -0.04266457,\n",
       "          0.03168765, -0.01565186],\n",
       "        [-0.03002553,  0.0218251 , -0.02121623, ..., -0.00014633,\n",
       "         -0.00797484, -0.0321485 ],\n",
       "        [-0.03210516, -0.01934806, -0.02068497, ...,  0.03649578,\n",
       "          0.03372644, -0.03581496]],\n",
       "\n",
       "       ...,\n",
       "\n",
       "       [[ 0.03648497,  0.03138497,  0.01404531, ...,  0.01127372,\n",
       "         -0.04294361, -0.00669511],\n",
       "        [ 0.03648497,  0.03138497,  0.01404531, ...,  0.01127372,\n",
       "         -0.04294361, -0.00669511],\n",
       "        [ 0.03648497,  0.03138497,  0.01404531, ...,  0.01127372,\n",
       "         -0.04294361, -0.00669511],\n",
       "        ...,\n",
       "        [-0.03953243,  0.02483252,  0.04946431, ...,  0.02879347,\n",
       "          0.02630771, -0.0096313 ],\n",
       "        [ 0.03655976,  0.03001923, -0.01205093, ..., -0.01414245,\n",
       "          0.04812777, -0.03755111],\n",
       "        [-0.01791674, -0.02758254,  0.00215327, ..., -0.03183291,\n",
       "         -0.00987246,  0.01117032]],\n",
       "\n",
       "       [[ 0.03648497,  0.03138497,  0.01404531, ...,  0.01127372,\n",
       "         -0.04294361, -0.00669511],\n",
       "        [ 0.03648497,  0.03138497,  0.01404531, ...,  0.01127372,\n",
       "         -0.04294361, -0.00669511],\n",
       "        [ 0.03648497,  0.03138497,  0.01404531, ...,  0.01127372,\n",
       "         -0.04294361, -0.00669511],\n",
       "        ...,\n",
       "        [-0.03177648,  0.02870002, -0.00579994, ..., -0.04266457,\n",
       "          0.03168765, -0.01565186],\n",
       "        [-0.02960103, -0.00663437,  0.00926846, ..., -0.00683551,\n",
       "          0.04547476,  0.0189133 ],\n",
       "        [-0.04387436, -0.00466542, -0.03252436, ...,  0.03585202,\n",
       "         -0.04275339, -0.0280952 ]],\n",
       "\n",
       "       [[ 0.03648497,  0.03138497,  0.01404531, ...,  0.01127372,\n",
       "         -0.04294361, -0.00669511],\n",
       "        [ 0.03648497,  0.03138497,  0.01404531, ...,  0.01127372,\n",
       "         -0.04294361, -0.00669511],\n",
       "        [ 0.03648497,  0.03138497,  0.01404531, ...,  0.01127372,\n",
       "         -0.04294361, -0.00669511],\n",
       "        ...,\n",
       "        [-0.02874153,  0.01919565, -0.00540898, ..., -0.02144843,\n",
       "          0.02596687,  0.00150799],\n",
       "        [-0.03294426,  0.02065593, -0.02457851, ...,  0.02595055,\n",
       "          0.02942342, -0.04674245],\n",
       "        [-0.02572091, -0.01765382, -0.01008619, ..., -0.04767732,\n",
       "         -0.01917808, -0.04731277]]], dtype=float32)"
      ]
     },
     "execution_count": 28,
     "metadata": {},
     "output_type": "execute_result"
    }
   ],
   "source": [
    "predictions = model.predict(embedded_docs)\n",
    "\n",
    "predictions"
   ]
  },
  {
   "cell_type": "code",
   "execution_count": 29,
   "metadata": {},
   "outputs": [
    {
     "name": "stdout",
     "output_type": "stream",
     "text": [
      "Original shape: (10, 20, 7)\n",
      "Reshaped to: (200, 7)\n",
      "Done.\n",
      "[[-7.0999824e-02  1.2510096e-03]\n",
      " [-7.0999824e-02  1.2510096e-03]\n",
      " [-7.0999824e-02  1.2510096e-03]\n",
      " [-7.0999824e-02  1.2510096e-03]\n",
      " [-7.0999824e-02  1.2510096e-03]\n",
      " [-7.0999824e-02  1.2510096e-03]\n",
      " [-7.0999824e-02  1.2510096e-03]\n",
      " [-7.0999824e-02  1.2510096e-03]\n",
      " [-7.0999824e-02  1.2510096e-03]\n",
      " [-7.0999824e-02  1.2510096e-03]\n",
      " [-7.0999824e-02  1.2510096e-03]\n",
      " [-8.5965507e-03 -7.5607836e-02]\n",
      " [-3.2376710e-02 -1.6494496e-03]\n",
      " [-3.2315779e-02  1.0150364e-02]\n",
      " [ 4.0280189e-02  2.2821421e-02]\n",
      " [-1.3931373e-02  3.4903958e-02]\n",
      " [ 1.9471662e-02 -4.6771716e-02]\n",
      " [-8.5965507e-03 -7.5607836e-02]\n",
      " [-7.0382389e-03  6.0601871e-02]\n",
      " [-2.5419837e-02 -3.8499884e-02]\n",
      " [-7.0999824e-02  1.2510096e-03]\n",
      " [-7.0999824e-02  1.2510096e-03]\n",
      " [-7.0999824e-02  1.2510096e-03]\n",
      " [-7.0999824e-02  1.2510096e-03]\n",
      " [-7.0999824e-02  1.2510096e-03]\n",
      " [-7.0999824e-02  1.2510096e-03]\n",
      " [-7.0999824e-02  1.2510096e-03]\n",
      " [-7.0999824e-02  1.2510096e-03]\n",
      " [-7.0999824e-02  1.2510096e-03]\n",
      " [-7.0999824e-02  1.2510096e-03]\n",
      " [-7.0999824e-02  1.2510096e-03]\n",
      " [-7.0999824e-02  1.2510096e-03]\n",
      " [-7.0999824e-02  1.2510096e-03]\n",
      " [-7.0999824e-02  1.2510096e-03]\n",
      " [-8.2261600e-03 -2.8285140e-02]\n",
      " [ 3.7574351e-02 -2.0643508e-02]\n",
      " [-7.1505790e-05 -2.1446854e-02]\n",
      " [ 3.0382065e-02 -2.1241615e-02]\n",
      " [-8.5965507e-03 -7.5607836e-02]\n",
      " [ 3.7578661e-03 -2.8057203e-02]\n",
      " [-7.0999824e-02  1.2510096e-03]\n",
      " [-7.0999824e-02  1.2510096e-03]\n",
      " [-7.0999824e-02  1.2510096e-03]\n",
      " [-7.0999824e-02  1.2510096e-03]\n",
      " [-7.0999824e-02  1.2510096e-03]\n",
      " [-7.0999824e-02  1.2510096e-03]\n",
      " [-7.0999824e-02  1.2510096e-03]\n",
      " [-7.0999824e-02  1.2510096e-03]\n",
      " [-7.0999824e-02  1.2510096e-03]\n",
      " [-7.0999824e-02  1.2510096e-03]\n",
      " [-7.0999824e-02  1.2510096e-03]\n",
      " [-8.5965507e-03 -7.5607836e-02]\n",
      " [-3.3187933e-02  3.2908429e-04]\n",
      " [ 1.6318593e-02  4.7617637e-02]\n",
      " [-2.5536254e-02  1.4679758e-02]\n",
      " [-3.2315779e-02  1.0150364e-02]\n",
      " [-3.1519890e-02 -1.8127697e-02]\n",
      " [ 3.3717550e-02 -1.8748799e-02]\n",
      " [-1.0143305e-02 -4.7463283e-02]\n",
      " [ 5.5581186e-02 -3.4318481e-02]\n",
      " [-7.0999824e-02  1.2510096e-03]\n",
      " [-7.0999824e-02  1.2510096e-03]\n",
      " [-7.0999824e-02  1.2510096e-03]\n",
      " [-7.0999824e-02  1.2510096e-03]\n",
      " [-7.0999824e-02  1.2510096e-03]\n",
      " [-7.0999824e-02  1.2510096e-03]\n",
      " [-7.0999824e-02  1.2510096e-03]\n",
      " [-7.0999824e-02  1.2510096e-03]\n",
      " [-7.0999824e-02  1.2510096e-03]\n",
      " [-7.0999824e-02  1.2510096e-03]\n",
      " [-7.0999824e-02  1.2510096e-03]\n",
      " [-7.0999824e-02  1.2510096e-03]\n",
      " [-7.0999824e-02  1.2510096e-03]\n",
      " [-7.0999824e-02  1.2510096e-03]\n",
      " [ 1.6318593e-02  4.7617637e-02]\n",
      " [-3.0705972e-02 -5.3964917e-02]\n",
      " [ 7.0355134e-03 -8.2335863e-03]\n",
      " [-5.3165322e-03 -3.3354066e-02]\n",
      " [-3.3187933e-02  3.2908429e-04]\n",
      " [-1.2342037e-02 -3.0504246e-03]\n",
      " [-7.0999824e-02  1.2510096e-03]\n",
      " [-7.0999824e-02  1.2510096e-03]\n",
      " [-7.0999824e-02  1.2510096e-03]\n",
      " [-7.0999824e-02  1.2510096e-03]\n",
      " [-7.0999824e-02  1.2510096e-03]\n",
      " [-7.0999824e-02  1.2510096e-03]\n",
      " [-7.0999824e-02  1.2510096e-03]\n",
      " [-7.0999824e-02  1.2510096e-03]\n",
      " [-7.0999824e-02  1.2510096e-03]\n",
      " [-7.0999824e-02  1.2510096e-03]\n",
      " [-7.0999824e-02  1.2510096e-03]\n",
      " [-7.0999824e-02  1.2510096e-03]\n",
      " [-7.0999824e-02  1.2510096e-03]\n",
      " [ 4.0280189e-02  2.2821421e-02]\n",
      " [ 4.4042614e-04 -1.9437669e-02]\n",
      " [-2.0291559e-02 -4.7109008e-02]\n",
      " [-1.5040929e-02 -2.1553637e-02]\n",
      " [-8.2261600e-03 -2.8285140e-02]\n",
      " [ 3.3082575e-02  9.2486739e-03]\n",
      " [ 1.7111348e-02  2.2549242e-02]\n",
      " [-7.0999824e-02  1.2510096e-03]\n",
      " [-7.0999824e-02  1.2510096e-03]\n",
      " [-7.0999824e-02  1.2510096e-03]\n",
      " [-7.0999824e-02  1.2510096e-03]\n",
      " [-7.0999824e-02  1.2510096e-03]\n",
      " [-7.0999824e-02  1.2510096e-03]\n",
      " [-7.0999824e-02  1.2510096e-03]\n",
      " [-7.0999824e-02  1.2510096e-03]\n",
      " [-7.0999824e-02  1.2510096e-03]\n",
      " [-7.0999824e-02  1.2510096e-03]\n",
      " [-7.0999824e-02  1.2510096e-03]\n",
      " [-8.5965507e-03 -7.5607836e-02]\n",
      " [ 5.5581186e-02 -3.4318481e-02]\n",
      " [ 2.7551215e-02  1.7678089e-02]\n",
      " [-3.2315779e-02  1.0150364e-02]\n",
      " [-2.5001029e-02 -4.4450466e-02]\n",
      " [-1.3331145e-02 -5.7448503e-02]\n",
      " [-6.1336025e-03 -2.6514506e-02]\n",
      " [-8.5965507e-03 -7.5607836e-02]\n",
      " [ 6.2852979e-02  1.5718222e-02]\n",
      " [-7.0999824e-02  1.2510096e-03]\n",
      " [-7.0999824e-02  1.2510096e-03]\n",
      " [-7.0999824e-02  1.2510096e-03]\n",
      " [-7.0999824e-02  1.2510096e-03]\n",
      " [-7.0999824e-02  1.2510096e-03]\n",
      " [-7.0999824e-02  1.2510096e-03]\n",
      " [-7.0999824e-02  1.2510096e-03]\n",
      " [-7.0999824e-02  1.2510096e-03]\n",
      " [-7.0999824e-02  1.2510096e-03]\n",
      " [-7.0999824e-02  1.2510096e-03]\n",
      " [-7.0999824e-02  1.2510096e-03]\n",
      " [-7.0999824e-02  1.2510096e-03]\n",
      " [-7.0999824e-02  1.2510096e-03]\n",
      " [-7.0999824e-02  1.2510096e-03]\n",
      " [-5.3165322e-03 -3.3354066e-02]\n",
      " [-2.5001029e-02 -4.4450466e-02]\n",
      " [-4.3606339e-03 -1.2211564e-02]\n",
      " [-3.0691259e-02 -4.1002673e-03]\n",
      " [-8.2261600e-03 -2.8285140e-02]\n",
      " [-1.0143305e-02 -4.7463283e-02]\n",
      " [-7.0999824e-02  1.2510096e-03]\n",
      " [-7.0999824e-02  1.2510096e-03]\n",
      " [-7.0999824e-02  1.2510096e-03]\n",
      " [-7.0999824e-02  1.2510096e-03]\n",
      " [-7.0999824e-02  1.2510096e-03]\n",
      " [-7.0999824e-02  1.2510096e-03]\n",
      " [-7.0999824e-02  1.2510096e-03]\n",
      " [-7.0999824e-02  1.2510096e-03]\n",
      " [-7.0999824e-02  1.2510096e-03]\n",
      " [-7.0999824e-02  1.2510096e-03]\n",
      " [-7.0999824e-02  1.2510096e-03]\n",
      " [-7.6256832e-03  6.5169106e-03]\n",
      " [ 2.7551215e-02  1.7678089e-02]\n",
      " [ 4.0280189e-02  2.2821421e-02]\n",
      " [-4.1685186e-02  4.6900608e-02]\n",
      " [-8.5965507e-03 -7.5607836e-02]\n",
      " [ 1.3705160e-02 -9.1426622e-04]\n",
      " [ 4.4042614e-04 -1.9437669e-02]\n",
      " [-4.1504865e-04  1.9098260e-02]\n",
      " [ 1.3705160e-02 -9.1426622e-04]\n",
      " [-7.0999824e-02  1.2510096e-03]\n",
      " [-7.0999824e-02  1.2510096e-03]\n",
      " [-7.0999824e-02  1.2510096e-03]\n",
      " [-7.0999824e-02  1.2510096e-03]\n",
      " [-7.0999824e-02  1.2510096e-03]\n",
      " [-7.0999824e-02  1.2510096e-03]\n",
      " [-7.0999824e-02  1.2510096e-03]\n",
      " [-7.0999824e-02  1.2510096e-03]\n",
      " [-7.0999824e-02  1.2510096e-03]\n",
      " [-7.0999824e-02  1.2510096e-03]\n",
      " [-7.0999824e-02  1.2510096e-03]\n",
      " [ 8.4121898e-03 -1.8110396e-02]\n",
      " [ 2.7551215e-02  1.7678089e-02]\n",
      " [-1.4514935e-02  2.7697545e-02]\n",
      " [ 1.7111348e-02  2.2549242e-02]\n",
      " [-8.5965507e-03 -7.5607836e-02]\n",
      " [-1.2947904e-03  3.6617953e-02]\n",
      " [ 3.3717550e-02 -1.8748799e-02]\n",
      " [ 5.3000819e-02  1.0825786e-02]\n",
      " [-1.6326519e-02 -7.0875384e-02]\n",
      " [-7.0999824e-02  1.2510096e-03]\n",
      " [-7.0999824e-02  1.2510096e-03]\n",
      " [-7.0999824e-02  1.2510096e-03]\n",
      " [-7.0999824e-02  1.2510096e-03]\n",
      " [-7.0999824e-02  1.2510096e-03]\n",
      " [-7.0999824e-02  1.2510096e-03]\n",
      " [-7.0999824e-02  1.2510096e-03]\n",
      " [-7.0999824e-02  1.2510096e-03]\n",
      " [-7.0999824e-02  1.2510096e-03]\n",
      " [-7.0999824e-02  1.2510096e-03]\n",
      " [-7.0999824e-02  1.2510096e-03]\n",
      " [-8.5965507e-03 -7.5607836e-02]\n",
      " [-1.0804394e-02 -1.5553510e-02]\n",
      " [ 3.7574351e-02 -2.0643508e-02]\n",
      " [-3.2315779e-02  1.0150364e-02]\n",
      " [ 6.4536056e-04 -4.2542119e-02]\n",
      " [ 1.5697714e-03  3.4350298e-02]\n",
      " [ 2.2737289e-02 -9.9101914e-03]\n",
      " [ 1.9471662e-02 -4.6771716e-02]\n",
      " [ 6.4536056e-04 -4.2542119e-02]]\n"
     ]
    }
   ],
   "source": [
    "import numpy as np\n",
    "from sklearn.decomposition import TruncatedSVD\n",
    "\n",
    "def reduce_embeddings(M, k=2):\n",
    "    n_iters = 10\n",
    "    print(f\"Original shape: {M.shape}\")\n",
    "\n",
    "    sentences, words_per_sentence, embedding_dim = M.shape\n",
    "    M_reshaped = M.reshape(sentences * words_per_sentence, embedding_dim)\n",
    "    \n",
    "    print(f\"Reshaped to: {M_reshaped.shape}\")\n",
    "    \n",
    "    svd = TruncatedSVD(n_components=k, n_iter=n_iters)\n",
    "    M_reduced = svd.fit_transform(M_reshaped)\n",
    "    \n",
    "    print(\"Done.\")\n",
    "    return M_reduced\n",
    "\n",
    "\n",
    "reduced_embeddings = reduce_embeddings(predictions, k=2)\n",
    "print(reduced_embeddings)\n"
   ]
  },
  {
   "cell_type": "code",
   "execution_count": 32,
   "metadata": {},
   "outputs": [
    {
     "data": {
      "image/png": "[encoded data removed]",
      "text/plain": [
       "<Figure size 700x700 with 1 Axes>"
      ]
     },
     "metadata": {},
     "output_type": "display_data"
    }
   ],
   "source": [
    "custom_words = ['fox', 'jumps', 'yoga', 'meditation', 'global', 'market', 'chef']\n",
    "import matplotlib.pyplot as plt\n",
    "\n",
    "def plot_embeddings(M_reduced, custom_words):\n",
    "    plt.figure(figsize=(7, 7))\n",
    "    \n",
    "    plt.scatter(M_reduced[:, 0], M_reduced[:, 1], c='blue', marker='o')\n",
    "    \n",
    "    for i, word in enumerate(custom_words):\n",
    "        plt.text(M_reduced[i, 0], M_reduced[i, 1], word, fontsize=12, ha='right')\n",
    "    \n",
    "    plt.xlabel('Component 1')\n",
    "    plt.ylabel('Component 2')\n",
    "    plt.title('2D Projection of Word Embeddings')\n",
    "    plt.grid(True)\n",
    "    plt.show()\n",
    "\n",
    "# Example usage\n",
    "plot_embeddings(reduced_embeddings, custom_words)\n"
   ]
  },
  {
   "cell_type": "code",
   "execution_count": null,
   "metadata": {},
   "outputs": [],
   "source": []
  }
 ],
 "metadata": {
  "kernelspec": {
   "display_name": "venv",
   "language": "python",
   "name": "python3"
  },
  "language_info": {
   "codemirror_mode": {
    "name": "ipython",
    "version": 3
   },
   "file_extension": ".py",
   "mimetype": "text/x-python",
   "name": "python",
   "nbconvert_exporter": "python",
   "pygments_lexer": "ipython3",
   "version": "3.10.1"
  }
 },
 "nbformat": 4,
 "nbformat_minor": 2
}
